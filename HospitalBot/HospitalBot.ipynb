{
 "cells": [
  {
   "cell_type": "code",
   "execution_count": 1,
   "metadata": {},
   "outputs": [],
   "source": [
    "import tweepy\n",
    "import pandas as pd\n",
    "import time\n",
    "import re\n",
    "import os"
   ]
  },
  {
   "cell_type": "code",
   "execution_count": 2,
   "metadata": {},
   "outputs": [],
   "source": [
    "file = 'Data\\last_seen_id.txt'\n",
    "covid_hospitals = pd.read_csv(\"Data\\ICMRTestingLabs.csv\")  #Reading the necessary datasets\n",
    "hospitals = pd.read_csv(\"Data\\devfest.csv\")\n",
    "cities = []\n",
    "cities = covid_hospitals.city.unique()\n",
    "states = covid_hospitals.state.unique()"
   ]
  },
  {
   "cell_type": "code",
   "execution_count": 3,
   "metadata": {},
   "outputs": [],
   "source": [
    "CONSUMER_KEY = os.environ.get(\"CONSUMER_KEY\")   #Getting the login credentials of the Bot\n",
    "CONSUMER_SECRET = os.environ.get(\"CONSUMER_SECRET\")\n",
    "ACCESS_KEY = os.environ.get(\"ACCESS_KEY\")\n",
    "ACCESS_SECRET = os.environ.get(\"ACCESS_SECRET\")\n",
    "auth = tweepy.OAuthHandler(CONSUMER_KEY, CONSUMER_SECRET)\n",
    "auth.set_access_token(ACCESS_KEY, ACCESS_SECRET)\n",
    "api = tweepy.API(auth)"
   ]
  },
  {
   "cell_type": "code",
   "execution_count": 5,
   "metadata": {},
   "outputs": [],
   "source": [
    "def retrieve_last_seen_id(file_name):\n",
    "    f_read = open(file_name, 'r') #Opens file containing the number of the last Tweet the bot responded to.\n",
    "    last_seen_id = int(f_read.read().strip())\n",
    "    f_read.close()\n",
    "    return last_seen_id\n",
    "\n",
    "\n",
    "def store_last_seen_id(last_seen_id, file_name):\n",
    "    f_write = open(file_name, 'w')\n",
    "    f_write.write(str(last_seen_id)) #Stores the number of the most recent Tweet responded to in a file.\n",
    "    f_write.close()\n",
    "    return\n",
    "\n",
    "\n",
    "def find_hospitals(pincode):\n",
    "    pincode[0].strip()      #Pincode is obtained from the tweet as a list of a string.\n",
    "    hospital_area = pd.DataFrame()\n",
    "    hospital_area = hospitals[hospitals[\"Pincode\"] == pincode[0]]\n",
    "    hosp = hospital_area.reset_index()\n",
    "    hosp = hosp.drop(['index'], axis=1) #Performing formatting on the new dataset so it contains only relevant columns\n",
    "    total_rows = len(hosp.axes[0])\n",
    "    name = hosp['Hospital_Name']\n",
    "    hosp.drop(labels=['Hospital_Name'], axis=1, inplace=True)\n",
    "    hosp.insert(0, 'Hospital_Name', name) #Reordering columns to make the address more readable\n",
    "    print(total_rows)\n",
    "    dict = {}\n",
    "    hosp_list = []\n",
    "    string = \"\"\n",
    "    dict = hosp.to_dict()\n",
    "    print(dict.keys())\n",
    "    for i in range(total_rows):\n",
    "        dict['Hospital_Name'][i] = dict['Hospital_Name'][i] + ', ' #Formatting the address to look better\n",
    "        dict['State'][i] = dict['State'][i] + ', '\n",
    "        dict['District'][i] = dict['District'][i] + ', '\n",
    "        dict['Location'][i] = dict['Location'][i] + ' '\n",
    "    hosp_list = []\n",
    "    for i in range(total_rows):\n",
    "        string = ''\n",
    "        for j in dict.keys():\n",
    "            string = string + dict[j][i]\n",
    "            hosp_list.append(string)\n",
    "    return(hosp_list, total_rows)           #Returns the list of hospitals and the number of hospitals\n",
    "\n",
    "\n",
    "def covid_hospitals_list(state):\n",
    "    covid_list = pd.DataFrame()\n",
    "    covid_list = covid_hospitals[covid_hospitals['state'] == state]\n",
    "    total1 = len(covid_list.axes[0])\n",
    "    covid_list = covid_list.reset_index()\n",
    "    covid_list = covid_list.drop(['index'], axis=1)\n",
    "    pincode = covid_list['pincode']\n",
    "    lab = covid_list['lab']\n",
    "    hosp_type = covid_list['type']\n",
    "    state = covid_list['state']\n",
    "    city = covid_list['city']\n",
    "    covid_list.drop(['pincode', 'type', 'lab', 'state', 'city'],\n",
    "                    axis=1, inplace=True)\n",
    "    dict = {}\n",
    "    dict = covid_list.to_dict()\n",
    "    hosp_list = []\n",
    "    for i in range(total1):\n",
    "        string = ''\n",
    "        for j in dict.keys():\n",
    "            string = string + str(dict[j][i])\n",
    "        hosp_list.append(string)\n",
    "    return(hosp_list, total1)"
   ]
  },
  {
   "cell_type": "code",
   "execution_count": null,
   "metadata": {},
   "outputs": [],
   "source": [
    "mentions = api.mentions_timeline()\n",
    "print(mentions[0].text, mentions[0].id)\n",
    "store_last_seen_id(mentions[0].id, file)"
   ]
  },
  {
   "cell_type": "code",
   "execution_count": 7,
   "metadata": {},
   "outputs": [
    {
     "ename": "SyntaxError",
     "evalue": "invalid syntax (<ipython-input-7-5f8697d654df>, line 9)",
     "output_type": "error",
     "traceback": [
      "\u001b[1;36m  File \u001b[1;32m\"<ipython-input-7-5f8697d654df>\"\u001b[1;36m, line \u001b[1;32m9\u001b[0m\n\u001b[1;33m    if 'corona' in mention.full_text.lower() or 'covid' or\u001b[0m\n\u001b[1;37m                                                          ^\u001b[0m\n\u001b[1;31mSyntaxError\u001b[0m\u001b[1;31m:\u001b[0m invalid syntax\n"
     ]
    }
   ],
   "source": [
    "def reply_to_tweets():\n",
    "    print('retrieving and replying to tweets...', flush=True)\n",
    "    last_seen_id = retrieve_last_seen_id(file)\n",
    "    # NOTE: We need to use tweet_mode='extended' below to show\n",
    "    # all full tweets (with full_text). Without it, long tweets\n",
    "    # would be cut off.\n",
    "    mentions = api.mentions_timeline(last_seen_id, tweet_mode='extended')\n",
    "    for mention in reversed(mentions):\n",
    "        if 'corona' in mention.full_text.lower() or 'covid' or\n",
    "        'covid-19' in mention.full_text.lower():\n",
    "            print(\"COVID tweet found!\")\n",
    "            total_covid = 0\n",
    "            for i in states:\n",
    "                if i in mention.full_text:\n",
    "                    hosp_list, total_covid = covid_hospitals_list(i)\n",
    "                    break\n",
    "            if total_covid == 0: #Checking if any facilities are present\n",
    "                api.update_status('@' + mention.user.screen_name + ' ' +\n",
    "                                  'Uh oh! Unforturnately, we could not' +\n",
    "                                  'find any hospitals in this state.' +\n",
    "                                  'Kindly enter another state.', mention.id)\n",
    "            else:\n",
    "                for i in range(total_covid):\n",
    "                    api.update_status('@' + mention.user.screen_name + ' ' +\n",
    "                                      hosp_list[i], mention.id)\n",
    "                    time.sleep(1)\n",
    "        else:\n",
    "            pin_code = re.findall(r' (\\d{6})', mention.full_text)       #Extracts pincode from Tweet\n",
    "            print(\"Found Tweet!\")\n",
    "            if len(pin_code) != 0:\n",
    "                hosp_list, total = find_hospitals(pin_code)\n",
    "                if total == 0:  #Checks if there are any hospitals in that pincode\n",
    "                    api.update_status('@' + mention.user.screen_name +\n",
    "                                      ' ' +\n",
    "                                      'Uh oh! Unforturnately, we could not' +\n",
    "                                      'find any hospitals in this pin code.' +\n",
    "                                      'Kindly enter another pincode.',\n",
    "                                      mention.id)\n",
    "                else:\n",
    "                    for i in range(total):\n",
    "                        api.update_status('@' + mention.user.screen_name +\n",
    "                                          ' ' + hosp_list[i], mention.id)\n",
    "                        time.sleep(1)\n",
    "                    print(str(mention.id) + ' - ' + mention.full_text,\n",
    "                          flush=True)\n",
    "        last_seen_id = mention.id\n",
    "        store_last_seen_id(last_seen_id, file)"
   ]
  },
  {
   "cell_type": "code",
   "execution_count": null,
   "metadata": {},
   "outputs": [],
   "source": [
    "while True:\n",
    "    reply_to_tweets()\n",
    "    time.sleep(1)"
   ]
  }
 ],
 "metadata": {
  "kernelspec": {
   "display_name": "Python 3",
   "language": "python",
   "name": "python3"
  },
  "language_info": {
   "codemirror_mode": {
    "name": "ipython",
    "version": 3
   },
   "file_extension": ".py",
   "mimetype": "text/x-python",
   "name": "python",
   "nbconvert_exporter": "python",
   "pygments_lexer": "ipython3",
   "version": "3.7.2"
  }
 },
 "nbformat": 4,
 "nbformat_minor": 2
}
